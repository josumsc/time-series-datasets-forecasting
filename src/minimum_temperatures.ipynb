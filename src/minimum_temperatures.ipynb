{
 "cells": [
  {
   "cell_type": "markdown",
   "id": "e056a147-4ddd-4555-8d57-afb0fce1749f",
   "metadata": {
    "tags": []
   },
   "source": [
    "# Minimum Temperatures"
   ]
  },
  {
   "cell_type": "code",
   "execution_count": 2,
   "id": "6b402cf9-55d3-4a9f-845b-e7b9d0daf543",
   "metadata": {},
   "outputs": [],
   "source": [
    "import warnings\n",
    "import numpy as np\n",
    "import pandas as pd\n",
    "import matplotlib.pyplot as plt\n",
    "\n",
    "from darts import TimeSeries\n",
    "from darts.models import (\n",
    "    NaiveSeasonal,\n",
    "    NaiveDrift,\n",
    "    Prophet,\n",
    "    ExponentialSmoothing,\n",
    "    ARIMA,\n",
    "    AutoARIMA,\n",
    "    Theta\n",
    ")\n",
    "\n",
    "from timeseries_utils import (\n",
    "    timeseries_csv_to_df,\n",
    "    split_train_test,\n",
    "    plot_results\n",
    ")\n",
    "\n",
    "warnings.filterwarnings(\"ignore\")"
   ]
  }
 ],
 "metadata": {
  "kernelspec": {
   "display_name": "Python 3 (ipykernel)",
   "language": "python",
   "name": "python3"
  },
  "language_info": {
   "codemirror_mode": {
    "name": "ipython",
    "version": 3
   },
   "file_extension": ".py",
   "mimetype": "text/x-python",
   "name": "python",
   "nbconvert_exporter": "python",
   "pygments_lexer": "ipython3",
   "version": "3.7.11"
  }
 },
 "nbformat": 4,
 "nbformat_minor": 5
}
